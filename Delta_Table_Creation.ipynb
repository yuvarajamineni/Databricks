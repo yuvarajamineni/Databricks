{
 "cells": [
  {
   "cell_type": "code",
   "execution_count": 0,
   "metadata": {
    "application/vnd.databricks.v1+cell": {
     "cellMetadata": {
      "byteLimit": 2048000,
      "implicitDf": true,
      "rowLimit": 10000
     },
     "inputWidgets": {},
     "nuid": "3e12fd59-08ca-4c0d-9bab-126f111a3433",
     "showTitle": false,
     "tableResultSettingsMap": {},
     "title": ""
    }
   },
   "outputs": [],
   "source": [
    "%sql\n",
    "-- Use or create database\n",
    "CREATE DATABASE IF NOT EXISTS etrm_trades;\n",
    "USE etrm_trades;\n",
    "\n",
    "-- Create main table\n",
    "CREATE TABLE IF NOT EXISTS ETRM_TRADE(\n",
    "  TradeId INT PRIMARY KEY,\n",
    "  TradeDate DATE NOT NULL,\n",
    "  Commodity VARCHAR(50),\n",
    "  Quantity INT,\n",
    "  Price DECIMAL(10,2),\n",
    "  TradeType VARCHAR(50)\n",
    ");\n",
    "\n",
    "-- Insert sample data\n",
    "INSERT INTO ETRM_TRADE (TradeId, TradeDate, Commodity, Quantity, Price, TradeType)\n",
    "VALUES\n",
    "(1, '2025-10-21', 'Oil', 500, 85.50, 'Buy'),\n",
    "(2, '2025-10-21', 'Gas', 1200, 3.75, 'Sell'),\n",
    "(3, '2025-10-20', 'Electricity', 100, 60.00, 'Buy'),\n",
    "(4, '2025-10-19', 'Coal', 800, 55.25, 'Sell');\n",
    "\n",
    "-- Create Delta table\n",
    "CREATE TABLE IF NOT EXISTS DELTA_ETRM_TRADE\n",
    "USING DELTA\n",
    "AS SELECT * FROM ETRM_TRADE;\n",
    "\n",
    "-- View Delta table\n",
    "SELECT * FROM DELTA_ETRM_TRADE;"
   ]
  }
 ],
 "metadata": {
  "application/vnd.databricks.v1+notebook": {
   "computePreferences": null,
   "dashboards": [
    {
     "elements": [],
     "globalVars": {},
     "guid": "",
     "layoutOption": {
      "grid": true,
      "stack": true
     },
     "nuid": "9690d825-7021-4118-ba7b-8450eecdddf7",
     "origId": 4972663864263210,
     "title": "Untitled",
     "version": "DashboardViewV1",
     "width": 1024
    }
   ],
   "environmentMetadata": {
    "base_environment": "",
    "environment_version": "4"
   },
   "inputWidgetPreferences": null,
   "language": "python",
   "notebookMetadata": {
    "mostRecentlyExecutedCommandWithImplicitDF": {
     "commandId": 8213918393706719,
     "dataframes": [
      "_sqldf"
     ]
    },
    "pythonIndentUnit": 4
   },
   "notebookName": "Delta_Table_Creation",
   "widgets": {}
  },
  "language_info": {
   "name": "python"
  }
 },
 "nbformat": 4,
 "nbformat_minor": 0
}